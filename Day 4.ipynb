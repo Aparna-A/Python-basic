{
 "cells": [
  {
   "cell_type": "markdown",
   "metadata": {},
   "source": [
    "# File handling in Python\n",
    "# Functions in Python\n",
    "# Modules in Python"
   ]
  },
  {
   "cell_type": "code",
   "execution_count": 1,
   "metadata": {},
   "outputs": [],
   "source": [
    "#File handling is \"To open,close and append in the file\" we use file handling"
   ]
  },
  {
   "cell_type": "code",
   "execution_count": 7,
   "metadata": {},
   "outputs": [],
   "source": [
    "# Create a file\n",
    "abc = open(\"Heyworld.txt\",'w')\n",
    "abc.write(\"Hey guys, this is our first file\")\n",
    "abc.close()"
   ]
  },
  {
   "cell_type": "code",
   "execution_count": 8,
   "metadata": {},
   "outputs": [],
   "source": [
    "abc = open(\"Heyworld.txt\",'r')\n",
    "content = abc.read()\n",
    "abc.close()"
   ]
  },
  {
   "cell_type": "code",
   "execution_count": 9,
   "metadata": {},
   "outputs": [
    {
     "data": {
      "text/plain": [
       "'Hey guys, this is our first file'"
      ]
     },
     "execution_count": 9,
     "metadata": {},
     "output_type": "execute_result"
    }
   ],
   "source": [
    "content"
   ]
  },
  {
   "cell_type": "code",
   "execution_count": 10,
   "metadata": {},
   "outputs": [],
   "source": [
    "#What are modes?\n",
    "#'r', 'w','w+','a','a+','r+'"
   ]
  },
  {
   "cell_type": "raw",
   "metadata": {},
   "source": [
    "“ r “, for reading.\n",
    "“ w “, for writing.\n",
    "“ a “, for appending or adding something to the file.\n",
    "“ r+ “, for both reading and writing together."
   ]
  },
  {
   "cell_type": "code",
   "execution_count": 12,
   "metadata": {},
   "outputs": [],
   "source": [
    "xyz = open(\"hey.text\", 'w')\n",
    "xyz.write(\"Hey 289 people,can we make it 30000\")\n",
    "xyz.close()"
   ]
  },
  {
   "cell_type": "code",
   "execution_count": 14,
   "metadata": {},
   "outputs": [],
   "source": [
    "xyz = open(\"hey.text\", 'a')\n",
    "xyz.write(\"U are amazing\")\n",
    "xyz.close()"
   ]
  },
  {
   "cell_type": "code",
   "execution_count": 19,
   "metadata": {},
   "outputs": [
    {
     "name": "stdout",
     "output_type": "stream",
     "text": [
      "U are amazing\n"
     ]
    }
   ],
   "source": [
    "xyz = open(\"hey.text\",'r+')\n",
    "print(xyz.read())\n",
    "xyz.write(\"Bring the change\")\n",
    "xyz.close()"
   ]
  },
  {
   "cell_type": "markdown",
   "metadata": {},
   "source": [
    "# Functions"
   ]
  },
  {
   "cell_type": "code",
   "execution_count": 20,
   "metadata": {},
   "outputs": [],
   "source": [
    "#functions: A function is a block of code which only runs when it is called.\n",
    "\n",
    "#You can pass data, known as parameters, into a function.\n",
    "\n",
    "#A function can return data as a result."
   ]
  },
  {
   "cell_type": "code",
   "execution_count": 23,
   "metadata": {},
   "outputs": [],
   "source": [
    "def func():\n",
    "    print(\"Hello\")\n",
    "    print(\"How are you?\")\n",
    "    print(\"From where you are?\")\n",
    "    print(\"Regards, Aparna\")\n",
    "    "
   ]
  },
  {
   "cell_type": "code",
   "execution_count": 24,
   "metadata": {},
   "outputs": [
    {
     "name": "stdout",
     "output_type": "stream",
     "text": [
      "Hello\n",
      "How are you?\n",
      "From where you are?\n",
      "Regards, Aparna\n"
     ]
    }
   ],
   "source": [
    "func()"
   ]
  },
  {
   "cell_type": "code",
   "execution_count": 28,
   "metadata": {},
   "outputs": [],
   "source": [
    "#parametrized functions\n",
    "\n",
    "def func1(name):\n",
    "    print(\"Hello\",name)\n",
    "    print(\"How are you?\")\n",
    "    print(\"From where you are?\")\n",
    "    print(\"Regards, Aparna\")\n",
    "    "
   ]
  },
  {
   "cell_type": "code",
   "execution_count": 29,
   "metadata": {},
   "outputs": [
    {
     "name": "stdout",
     "output_type": "stream",
     "text": [
      "Hello Ahad\n",
      "How are you?\n",
      "From where you are?\n",
      "Regards, Aparna\n"
     ]
    }
   ],
   "source": [
    "func1(\"Ahad\")"
   ]
  },
  {
   "cell_type": "code",
   "execution_count": 32,
   "metadata": {},
   "outputs": [],
   "source": [
    "def func2(name,comment):\n",
    "    print(\"Hello\",name)\n",
    "    print(\"How are you?\")\n",
    "    print(\"From where you are?\")\n",
    "    print(\"Regards, Aparna\")\n",
    "    print(\"comment-\",comment)"
   ]
  },
  {
   "cell_type": "code",
   "execution_count": 33,
   "metadata": {},
   "outputs": [
    {
     "name": "stdout",
     "output_type": "stream",
     "text": [
      "Hello Chathan\n",
      "How are you?\n",
      "From where you are?\n",
      "Regards, Aparna\n",
      "comment- Happy for you!\n"
     ]
    }
   ],
   "source": [
    "func2(\"Chathan\",\"Happy for you!\")"
   ]
  },
  {
   "cell_type": "code",
   "execution_count": 34,
   "metadata": {},
   "outputs": [],
   "source": [
    "def calculator(a,b,ops):\n",
    "    if ops == '+':\n",
    "        return a+b\n",
    "    elif ops == '-':\n",
    "        return a-b\n",
    "    elif ops == '*':\n",
    "        return a*b\n",
    "    elif ops == '/':\n",
    "        return a/b\n",
    "    else:\n",
    "        return \"Please give a valid input\"\n",
    "    \n",
    "    "
   ]
  },
  {
   "cell_type": "code",
   "execution_count": 38,
   "metadata": {},
   "outputs": [
    {
     "data": {
      "text/plain": [
       "16"
      ]
     },
     "execution_count": 38,
     "metadata": {},
     "output_type": "execute_result"
    }
   ],
   "source": [
    "calculator(12,4,'+')"
   ]
  },
  {
   "cell_type": "code",
   "execution_count": 39,
   "metadata": {},
   "outputs": [],
   "source": [
    "result = calculator(12,4,'/')"
   ]
  },
  {
   "cell_type": "code",
   "execution_count": 40,
   "metadata": {},
   "outputs": [
    {
     "data": {
      "text/plain": [
       "3.0"
      ]
     },
     "execution_count": 40,
     "metadata": {},
     "output_type": "execute_result"
    }
   ],
   "source": [
    "result"
   ]
  },
  {
   "cell_type": "code",
   "execution_count": 41,
   "metadata": {},
   "outputs": [],
   "source": [
    "#global variables and local variables(outside the function and inside the function)\n",
    "#outside the function will be called first and changes will be to the inside the function\n",
    "\n",
    "name = \"Adarsh\"\n",
    "def fun():\n",
    "    print(name)\n"
   ]
  },
  {
   "cell_type": "code",
   "execution_count": 43,
   "metadata": {},
   "outputs": [
    {
     "name": "stdout",
     "output_type": "stream",
     "text": [
      "Adarsh\n"
     ]
    }
   ],
   "source": [
    "fun()"
   ]
  },
  {
   "cell_type": "code",
   "execution_count": 45,
   "metadata": {},
   "outputs": [],
   "source": [
    "name = \"Adarsh\"\n",
    "\n",
    "def fun():\n",
    "    global name\n",
    "    name = \"Basith\"\n",
    "    print(name)"
   ]
  },
  {
   "cell_type": "code",
   "execution_count": 48,
   "metadata": {},
   "outputs": [
    {
     "data": {
      "text/plain": [
       "'Adarsh'"
      ]
     },
     "execution_count": 48,
     "metadata": {},
     "output_type": "execute_result"
    }
   ],
   "source": [
    "name"
   ]
  },
  {
   "cell_type": "code",
   "execution_count": 49,
   "metadata": {},
   "outputs": [
    {
     "name": "stdout",
     "output_type": "stream",
     "text": [
      "Basith\n"
     ]
    }
   ],
   "source": [
    "fun()"
   ]
  },
  {
   "cell_type": "code",
   "execution_count": 51,
   "metadata": {},
   "outputs": [],
   "source": [
    "name1 = \"Akash\"\n",
    "def fun1():\n",
    "    name1 = \"Atharv\"\n",
    "    print(name1)"
   ]
  },
  {
   "cell_type": "code",
   "execution_count": 53,
   "metadata": {},
   "outputs": [
    {
     "name": "stdout",
     "output_type": "stream",
     "text": [
      "Atharv\n"
     ]
    }
   ],
   "source": [
    "fun1()"
   ]
  },
  {
   "cell_type": "code",
   "execution_count": 54,
   "metadata": {},
   "outputs": [
    {
     "data": {
      "text/plain": [
       "'Akash'"
      ]
     },
     "execution_count": 54,
     "metadata": {},
     "output_type": "execute_result"
    }
   ],
   "source": [
    "name1"
   ]
  },
  {
   "cell_type": "code",
   "execution_count": null,
   "metadata": {},
   "outputs": [],
   "source": []
  }
 ],
 "metadata": {
  "kernelspec": {
   "display_name": "Python 3",
   "language": "python",
   "name": "python3"
  },
  "language_info": {
   "codemirror_mode": {
    "name": "ipython",
    "version": 3
   },
   "file_extension": ".py",
   "mimetype": "text/x-python",
   "name": "python",
   "nbconvert_exporter": "python",
   "pygments_lexer": "ipython3",
   "version": "3.8.3"
  }
 },
 "nbformat": 4,
 "nbformat_minor": 4
}
